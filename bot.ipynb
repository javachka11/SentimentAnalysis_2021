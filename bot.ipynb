{
  "nbformat": 4,
  "nbformat_minor": 0,
  "metadata": {
    "accelerator": "TPU",
    "colab": {
      "name": "bot.ipynb",
      "provenance": [],
      "collapsed_sections": [],
      "authorship_tag": "ABX9TyOMi8WbKbKREs6CSScvMpMy",
      "include_colab_link": true
    },
    "kernelspec": {
      "display_name": "Python 3",
      "name": "python3"
    },
    "language_info": {
      "name": "python"
    }
  },
  "cells": [
    {
      "cell_type": "markdown",
      "metadata": {
        "id": "view-in-github",
        "colab_type": "text"
      },
      "source": [
        "<a href=\"https://colab.research.google.com/github/javachka11/SentimentAnalysis_2021/blob/main/bot.ipynb\" target=\"_parent\"><img src=\"https://colab.research.google.com/assets/colab-badge.svg\" alt=\"Open In Colab\"/></a>"
      ]
    },
    {
      "cell_type": "code",
      "metadata": {
        "colab": {
          "base_uri": "https://localhost:8080/"
        },
        "id": "dj-pZ6HfIQF7",
        "outputId": "a27f8311-e116-4a50-de11-cebcdc9c7adb"
      },
      "source": [
        "from google.colab import drive\n",
        "drive.mount('/content/drive')"
      ],
      "execution_count": null,
      "outputs": [
        {
          "output_type": "stream",
          "text": [
            "Drive already mounted at /content/drive; to attempt to forcibly remount, call drive.mount(\"/content/drive\", force_remount=True).\n"
          ],
          "name": "stdout"
        }
      ]
    },
    {
      "cell_type": "code",
      "metadata": {
        "colab": {
          "base_uri": "https://localhost:8080/"
        },
        "id": "EpmO5aTQuhSQ",
        "outputId": "f5038afc-87b8-4976-95a1-eb83f804b6d1"
      },
      "source": [
        "!unzip '/content/drive/My Drive/NLP/positive.csv.zip' -d '/content/drive/My Drive/NLP'"
      ],
      "execution_count": null,
      "outputs": [
        {
          "output_type": "stream",
          "text": [
            "Archive:  /content/drive/My Drive/NLP/negative.csv.zip\n",
            "  inflating: /content/drive/My Drive/NLP/negative.csv  \n"
          ],
          "name": "stdout"
        }
      ]
    },
    {
      "cell_type": "code",
      "metadata": {
        "id": "C79p_xSayYfY"
      },
      "source": [
        "!unzip '/content/drive/My Drive/NLP/negative.csv.zip' -d '/content/drive/My Drive/NLP'"
      ],
      "execution_count": null,
      "outputs": []
    },
    {
      "cell_type": "code",
      "metadata": {
        "id": "UVDC5mc58N_H"
      },
      "source": [
        "texts = []\n",
        "labels = []"
      ],
      "execution_count": null,
      "outputs": []
    },
    {
      "cell_type": "code",
      "metadata": {
        "colab": {
          "base_uri": "https://localhost:8080/"
        },
        "id": "p-VXgbkoK09_",
        "outputId": "1a248fca-1319-482b-aa27-8b62bedb1396"
      },
      "source": [
        "import csv\n",
        "with open(\"/content/drive/My Drive/NLP/positive.csv\", encoding='utf-8') as r_file:\n",
        "    file_reader = csv.reader((x.replace('\\0', '') for x in r_file), delimiter = \";\")\n",
        "    count = 0\n",
        "    for row in file_reader:\n",
        "        if count == 0:\n",
        "            print(f'Файл содержит столбцы: {\", \".join(row)}')\n",
        "        else:\n",
        "            texts.append(row[3])\n",
        "            labels.append(1)\n",
        "        count += 1\n",
        "    print(f'Всего в файле {count} строк.')"
      ],
      "execution_count": null,
      "outputs": [
        {
          "output_type": "stream",
          "text": [
            "Файл содержит столбцы: 408906762813579264, 1386325944, dugarchikbellko, на работе был полный пиддес :| и так каждое закрытие месяца, я же свихнусь так D:, -1, 0, 0, 0, 8064, 111, 94, 2\n",
            "Всего в файле 111923 строк.\n"
          ],
          "name": "stdout"
        }
      ]
    },
    {
      "cell_type": "code",
      "metadata": {
        "id": "J7kE7cNO07Cu"
      },
      "source": [
        "with open(\"/content/drive/My Drive/NLP/negative.csv\", encoding='utf-8') as r_file:\n",
        "    file_reader = csv.reader((x.replace('\\0', '') for x in r_file), delimiter = \";\")\n",
        "    count = 0\n",
        "    for row in file_reader:\n",
        "        if count == 0:\n",
        "            print(f'Файл содержит столбцы: {\", \".join(row)}')\n",
        "        else:\n",
        "            texts.append(row[3])\n",
        "            labels.append(0)\n",
        "        count += 1\n",
        "    print(f'Всего в файле {count} строк.')"
      ],
      "execution_count": null,
      "outputs": []
    },
    {
      "cell_type": "code",
      "metadata": {
        "colab": {
          "base_uri": "https://localhost:8080/"
        },
        "id": "OXNcTspZPCmc",
        "outputId": "5b4ee714-2673-45e7-dcd4-9f4daed46356"
      },
      "source": [
        "len(texts), len(labels)"
      ],
      "execution_count": null,
      "outputs": [
        {
          "output_type": "execute_result",
          "data": {
            "text/plain": [
              "(226832, 226832)"
            ]
          },
          "metadata": {},
          "execution_count": 7
        }
      ]
    },
    {
      "cell_type": "code",
      "metadata": {
        "id": "Pj2cdsc9Sg1R"
      },
      "source": [
        "import re\n",
        "\n",
        "def preprocess_text(text):\n",
        "    text = re.sub('[xX\\:\\;][dD\\)]+', '', text)\n",
        "    text = text.lower().replace(\"ё\", \"е\")\n",
        "    text = re.sub('((www\\.[^\\s]*)|(https?://[^\\s]*))', 'URL', text)\n",
        "    text = re.sub('@[^\\s]+', 'USER', text)\n",
        "    text = re.sub('\\&[^\\s]+', '', text)\n",
        "    text = re.sub('[^a-zA-Zа-яА-Я0-9]+', ' ', text)\n",
        "    text = re.sub('[rR][tT]', '', text)\n",
        "    text = re.sub(' +', ' ', text)\n",
        "    return text.strip()\n",
        "\n",
        "texts2 = [preprocess_text(t) for t in texts]"
      ],
      "execution_count": null,
      "outputs": []
    },
    {
      "cell_type": "code",
      "metadata": {
        "id": "V1TCq6vgYxfH"
      },
      "source": [
        "from tensorflow.keras.preprocessing.text import Tokenizer\n",
        "from tensorflow.keras.preprocessing.sequence import pad_sequences\n",
        "import numpy as np"
      ],
      "execution_count": null,
      "outputs": []
    },
    {
      "cell_type": "code",
      "metadata": {
        "id": "DGbzWfPeZMLM"
      },
      "source": [
        "max_words = 50000\n",
        "max_len = 25\n",
        "training_samples = 160000\n",
        "validation_samples = 40000\n",
        "tokenizer = Tokenizer(num_words=max_words)\n",
        "tokenizer.fit_on_texts(texts2)\n",
        "sequences = tokenizer.texts_to_sequences(texts2)\n",
        "data = pad_sequences(sequences, maxlen=max_len)\n",
        "labels = np.asarray(labels)\n",
        "\n",
        "indices = np.arange(data.shape[0])\n",
        "np.random.shuffle(indices)\n",
        "data = data[indices]\n",
        "labels = labels[indices]\n",
        "x_train = data[:training_samples]\n",
        "y_train = labels[:training_samples]\n",
        "x_val = data[training_samples: training_samples + validation_samples]\n",
        "y_val = labels[training_samples: training_samples + validation_samples]"
      ],
      "execution_count": null,
      "outputs": []
    },
    {
      "cell_type": "code",
      "metadata": {
        "id": "cenXABBmhgOt"
      },
      "source": [
        "from tensorflow.keras.callbacks import ModelCheckpoint, EarlyStopping\n",
        "filepath = '/content/drive/My Drive/NLP/best_model.h5'\n",
        "checkpoint_callback = ModelCheckpoint(\n",
        "    filepath,\n",
        "    monitor='val_acc',\n",
        "    mode='max',\n",
        "    save_best_only=True)\n",
        "stop_callback = EarlyStopping(\n",
        "    monitor=\"val_acc\",\n",
        "    mode='max',\n",
        "    patience=3,\n",
        "    min_delta=0.001\n",
        ")\n",
        "callbacks = [checkpoint_callback, stop_callback]"
      ],
      "execution_count": null,
      "outputs": []
    },
    {
      "cell_type": "code",
      "metadata": {
        "colab": {
          "base_uri": "https://localhost:8080/"
        },
        "id": "G47t85dALXbi",
        "outputId": "5a2a0e9c-cc54-42a4-fe35-2fd49890a03c"
      },
      "source": [
        "from tensorflow.keras.models import Sequential\n",
        "from tensorflow.keras import layers\n",
        "from tensorflow.keras.optimizers import RMSprop\n",
        "model = Sequential()\n",
        "model.add(layers.Embedding(max_words, 128, input_length=max_len, mask_zero = True))\n",
        "model.add(layers.SpatialDropout1D(0.3))\n",
        "model.add(layers.Bidirectional(layers.LSTM(64, return_sequences=True)))\n",
        "model.add(layers.Bidirectional(layers.LSTM(32)))\n",
        "model.add(layers.Dense(1, activation='sigmoid'))\n",
        "model.summary()"
      ],
      "execution_count": null,
      "outputs": [
        {
          "output_type": "stream",
          "text": [
            "Model: \"sequential_2\"\n",
            "_________________________________________________________________\n",
            "Layer (type)                 Output Shape              Param #   \n",
            "=================================================================\n",
            "embedding_2 (Embedding)      (None, 25, 128)           6400000   \n",
            "_________________________________________________________________\n",
            "spatial_dropout1d (SpatialDr (None, 25, 128)           0         \n",
            "_________________________________________________________________\n",
            "bidirectional (Bidirectional (None, 25, 128)           98816     \n",
            "_________________________________________________________________\n",
            "bidirectional_1 (Bidirection (None, 64)                41216     \n",
            "_________________________________________________________________\n",
            "dense (Dense)                (None, 1)                 65        \n",
            "=================================================================\n",
            "Total params: 6,540,097\n",
            "Trainable params: 6,540,097\n",
            "Non-trainable params: 0\n",
            "_________________________________________________________________\n"
          ],
          "name": "stdout"
        }
      ]
    },
    {
      "cell_type": "code",
      "metadata": {
        "colab": {
          "base_uri": "https://localhost:8080/"
        },
        "id": "nCk3ZwFtS7XU",
        "outputId": "52c37737-d0cf-49bf-eed3-2f37bb89d94e"
      },
      "source": [
        "model.compile(optimizer=RMSprop(lr=1e-4),\n",
        "loss='binary_crossentropy',\n",
        "metrics=['acc'])\n",
        "history = model.fit(x_train, y_train,\n",
        "epochs=20,\n",
        "batch_size=200,\n",
        "validation_data=(x_val, y_val),\n",
        "callbacks=callbacks)"
      ],
      "execution_count": null,
      "outputs": [
        {
          "output_type": "stream",
          "text": [
            "/usr/local/lib/python3.7/dist-packages/keras/optimizer_v2/optimizer_v2.py:356: UserWarning: The `lr` argument is deprecated, use `learning_rate` instead.\n",
            "  \"The `lr` argument is deprecated, use `learning_rate` instead.\")\n"
          ],
          "name": "stderr"
        },
        {
          "output_type": "stream",
          "text": [
            "Epoch 1/20\n",
            "800/800 [==============================] - 218s 259ms/step - loss: 0.6160 - acc: 0.6671 - val_loss: 0.5578 - val_acc: 0.7187\n",
            "Epoch 2/20\n",
            "800/800 [==============================] - 207s 258ms/step - loss: 0.5301 - acc: 0.7366 - val_loss: 0.5234 - val_acc: 0.7380\n",
            "Epoch 3/20\n",
            "800/800 [==============================] - 205s 256ms/step - loss: 0.5008 - acc: 0.7559 - val_loss: 0.5122 - val_acc: 0.7436\n",
            "Epoch 4/20\n",
            "800/800 [==============================] - 204s 255ms/step - loss: 0.4852 - acc: 0.7665 - val_loss: 0.5059 - val_acc: 0.7472\n",
            "Epoch 5/20\n",
            "800/800 [==============================] - 205s 256ms/step - loss: 0.4737 - acc: 0.7744 - val_loss: 0.5054 - val_acc: 0.7494\n",
            "Epoch 6/20\n",
            "800/800 [==============================] - 205s 256ms/step - loss: 0.4655 - acc: 0.7790 - val_loss: 0.5030 - val_acc: 0.7498\n",
            "Epoch 7/20\n",
            "800/800 [==============================] - 204s 256ms/step - loss: 0.4588 - acc: 0.7827 - val_loss: 0.5013 - val_acc: 0.7520\n",
            "Epoch 8/20\n",
            "800/800 [==============================] - 204s 255ms/step - loss: 0.4535 - acc: 0.7874 - val_loss: 0.5017 - val_acc: 0.7525\n",
            "Epoch 9/20\n",
            "800/800 [==============================] - 203s 254ms/step - loss: 0.4482 - acc: 0.7904 - val_loss: 0.5003 - val_acc: 0.7519\n",
            "Epoch 10/20\n",
            "800/800 [==============================] - ETA: 0s - loss: 0.4433 - acc: 0.7934"
          ],
          "name": "stdout"
        }
      ]
    },
    {
      "cell_type": "code",
      "metadata": {
        "colab": {
          "base_uri": "https://localhost:8080/",
          "height": 545
        },
        "id": "Ld7jP6tCWOwI",
        "outputId": "43f92a90-224f-455d-c182-ddd5f4d58517"
      },
      "source": [
        "import matplotlib.pyplot as plt\n",
        "acc = history.history['acc']\n",
        "val_acc = history.history['val_acc']\n",
        "loss = history.history['loss']\n",
        "val_loss = history.history['val_loss']\n",
        "epochs = range(1, len(acc) + 1)\n",
        "plt.plot(epochs, acc, 'bo', label='Training acc')\n",
        "plt.plot(epochs, val_acc, 'b', label='Validation acc')\n",
        "plt.title('Training and validation accuracy')\n",
        "plt.legend()\n",
        "plt.figure()\n",
        "plt.plot(epochs, loss, 'bo', label='Training loss')\n",
        "plt.plot(epochs, val_loss, 'b', label='Validation loss')\n",
        "plt.title('Training and validation loss')\n",
        "plt.legend()\n",
        "plt.show()"
      ],
      "execution_count": null,
      "outputs": [
        {
          "output_type": "display_data",
          "data": {
            "image/png": "[encoded data removed]",
            "text/plain": [
              "<Figure size 432x288 with 1 Axes>"
            ]
          },
          "metadata": {
            "needs_background": "light"
          }
        },
        {
          "output_type": "display_data",
          "data": {
            "image/png": "[encoded data removed]",
            "text/plain": [
              "<Figure size 432x288 with 1 Axes>"
            ]
          },
          "metadata": {
            "needs_background": "light"
          }
        }
      ]
    },
    {
      "cell_type": "code",
      "metadata": {
        "colab": {
          "base_uri": "https://localhost:8080/"
        },
        "id": "QlL702nCvirZ",
        "outputId": "985b0b26-9151-4a6f-bdf6-da786513c7ec"
      },
      "source": [
        "test_samples = 20000\n",
        "x_test = data[training_samples + validation_samples: training_samples + validation_samples + test_samples]\n",
        "y_test = labels[training_samples + validation_samples: training_samples + validation_samples + test_samples]\n",
        "results = model.evaluate(x_test, y_test, batch_size=100)\n",
        "print('test_loss : test_acc ==', results)"
      ],
      "execution_count": null,
      "outputs": [
        {
          "output_type": "stream",
          "text": [
            "200/200 [==============================] - 11s 40ms/step - loss: 0.4955 - acc: 0.7592\n",
            "test_loss : test_acc == [0.49552929401397705, 0.7592499852180481]\n"
          ],
          "name": "stdout"
        }
      ]
    },
    {
      "cell_type": "code",
      "metadata": {
        "id": "_KEQf3AEX-3w"
      },
      "source": [
        "import pickle\n",
        "\n",
        "#Сохраняем обученный tokenizer, чтобы использовать его в других программах\n",
        "with open('/content/drive/My Drive/NLP/tokenizer.pickle', 'wb') as handle:\n",
        "    pickle.dump(tokenizer, handle, protocol=pickle.HIGHEST_PROTOCOL)"
      ],
      "execution_count": null,
      "outputs": []
    },
    {
      "cell_type": "code",
      "metadata": {
        "colab": {
          "base_uri": "https://localhost:8080/"
        },
        "id": "Mw3pIXLlcZG4",
        "outputId": "61b00048-7096-4b79-bcdc-4e5f16c8453a"
      },
      "source": [
        "text = 'мне не понравилось, пока'\n",
        "sequence = tokenizer.texts_to_sequences([text])\n",
        "print(model.predict(sequence))"
      ],
      "execution_count": null,
      "outputs": [
        {
          "output_type": "stream",
          "text": [
            "[[0.3651166]]\n"
          ],
          "name": "stdout"
        }
      ]
    }
  ]
}